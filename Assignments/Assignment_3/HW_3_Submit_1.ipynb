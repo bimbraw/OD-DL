{
  "nbformat": 4,
  "nbformat_minor": 0,
  "metadata": {
    "colab": {
      "provenance": []
    },
    "kernelspec": {
      "name": "python3",
      "display_name": "Python 3"
    },
    "language_info": {
      "name": "python"
    }
  },
  "cells": [
    {
      "cell_type": "markdown",
      "source": [
        "cutoff_exit_performance_check():\n",
        "\n",
        "TODO: On test data, run the model by iterating through exit layer indices.\n",
        "Decide, based on entropy, whether to exit from a particular layer or not. Please utilize tensors after a layer for the next layer, if not exited. If print_per_layer_performance is True, please print accuracy and time for each layer. We want to see the printables for only one value. When plotting, you don't need to print these.\n",
        "\n",
        "estimate_thresholds():\n",
        "\n",
        "TODO: On validation data, for each layer, estimate entropy cutoff that gives the desired accuracy. Consider the samples exited and skip those samples when estimating the thresholds for the following layers.\n",
        "\n",
        "\n",
        "1.   1(a) For a fixed value of cutoff, show performance for all layers.\n",
        "2.   1(b) Plot overall accuracy vs cutoff, total time vs cutoff and total time vs overall accuracy.\n",
        "3.   2(a) On validation data, estimate threshold for each layer based on desired minimum accuracy. Use said list of thresholds on test data.\n",
        "4.   2(c) Vary the desired minimum accuracy and generate lists of thresholds. For the list of list of thresholds, plot total time vs overall accuracy."
      ],
      "metadata": {
        "id": "lk2aB2OYhDI8"
      }
    },
    {
      "cell_type": "code",
      "execution_count": null,
      "metadata": {
        "id": "Und6WHc3f6u4"
      },
      "outputs": [],
      "source": [
        "import torch\n",
        "import numpy as np\n",
        "import matplotlib.pyplot as plt\n",
        "import torch.nn as nn\n",
        "import torch.nn.functional as F\n",
        "from torchvision.datasets import CIFAR10\n",
        "from torchvision.transforms import ToTensor\n",
        "from torch.utils.data.dataloader import DataLoader\n",
        "from sklearn.metrics import classification_report\n",
        "from scipy.stats import entropy\n",
        "from time import time\n",
        "import torchvision"
      ]
    },
    {
      "cell_type": "code",
      "source": [
        "num_classes = 10\n",
        "num_layers = 5\n",
        "\n",
        "device = torch.device(\"cuda:0\" if torch.cuda.is_available() else \"cpu\")\n",
        "\n",
        "torch.manual_seed(42)\n",
        "dataset = CIFAR10(root=\"./data\", download=True, transform=ToTensor())\n",
        "test_dataset = CIFAR10(root=\"./data\", train=False, transform=ToTensor())\n",
        "\n",
        "\n",
        "# batch_size = 256\n",
        "val_size = 5000\n",
        "train_size = len(dataset) - val_size\n",
        "_, val_ds = torch.utils.data.random_split(dataset, [train_size, val_size])\n",
        "val_loader = DataLoader(val_ds, batch_size=val_size, num_workers=4)\n",
        "test_loader = DataLoader(test_dataset, batch_size=10000, num_workers=4)"
      ],
      "metadata": {
        "colab": {
          "base_uri": "https://localhost:8080/"
        },
        "id": "RM5vKGsLgOGR",
        "outputId": "f9391523-1056-4718-a7d2-553721eb9cc1"
      },
      "execution_count": null,
      "outputs": [
        {
          "output_type": "stream",
          "name": "stdout",
          "text": [
            "Downloading https://www.cs.toronto.edu/~kriz/cifar-10-python.tar.gz to ./data/cifar-10-python.tar.gz\n"
          ]
        },
        {
          "output_type": "stream",
          "name": "stderr",
          "text": [
            "100%|██████████| 170498071/170498071 [00:06<00:00, 25014419.03it/s]\n"
          ]
        },
        {
          "output_type": "stream",
          "name": "stdout",
          "text": [
            "Extracting ./data/cifar-10-python.tar.gz to ./data\n"
          ]
        },
        {
          "output_type": "stream",
          "name": "stderr",
          "text": [
            "/usr/local/lib/python3.10/dist-packages/torch/utils/data/dataloader.py:557: UserWarning: This DataLoader will create 4 worker processes in total. Our suggested max number of worker in current system is 2, which is smaller than what this DataLoader is going to create. Please be aware that excessive worker creation might get DataLoader running slow or even freeze, lower the worker number to avoid potential slowness/freeze if necessary.\n",
            "  warnings.warn(_create_warning_msg(\n"
          ]
        }
      ]
    },
    {
      "cell_type": "code",
      "source": [
        "class Branch(nn.Module):\n",
        "    def __init__(self, in_channels, in_features):\n",
        "        super(Branch, self).__init__()\n",
        "        self.conv = nn.Conv2d(\n",
        "            in_channels=in_channels, out_channels=16, kernel_size=3, stride=2\n",
        "        )\n",
        "        self.bn = nn.BatchNorm2d(num_features=16)\n",
        "        self.flatten = nn.Flatten()\n",
        "        self.fc = nn.Linear(in_features=in_features, out_features=num_classes)\n",
        "\n",
        "    def forward(self, x):\n",
        "        x = self.conv(x)\n",
        "        x = F.relu(x)\n",
        "        x = self.bn(x)\n",
        "        x = self.flatten(x)\n",
        "        x = self.fc(x)\n",
        "        return x"
      ],
      "metadata": {
        "id": "OsxC92zDghnT"
      },
      "execution_count": null,
      "outputs": []
    },
    {
      "cell_type": "code",
      "source": [
        "#@title Model\n",
        "\n",
        "class Baseline(nn.Module):\n",
        "    def __init__(self):\n",
        "        super(Baseline, self).__init__()\n",
        "        self.in_channels = [32, 32, 64, 64, 128]\n",
        "        self.in_features = [3600, 784, 784, 144, 144]\n",
        "        self.conv1 = nn.Conv2d(\n",
        "            in_channels=3, out_channels=32, kernel_size=3, padding=\"same\"\n",
        "        )\n",
        "        self.conv2 = nn.Conv2d(\n",
        "            in_channels=32, out_channels=32, kernel_size=3, padding=\"same\"\n",
        "        )\n",
        "        self.pool1 = nn.MaxPool2d(kernel_size=2)\n",
        "        self.bn1 = nn.BatchNorm2d(num_features=32)\n",
        "        self.bn2 = nn.BatchNorm2d(num_features=32)\n",
        "        self.dropout1 = nn.Dropout(p=0.2)\n",
        "\n",
        "        self.conv3 = nn.Conv2d(\n",
        "            in_channels=32, out_channels=64, kernel_size=3, padding=\"same\"\n",
        "        )\n",
        "        self.conv4 = nn.Conv2d(\n",
        "            in_channels=64, out_channels=64, kernel_size=3, padding=\"same\"\n",
        "        )\n",
        "        self.pool2 = nn.MaxPool2d(kernel_size=2)\n",
        "        self.bn3 = nn.BatchNorm2d(num_features=64)\n",
        "        self.bn4 = nn.BatchNorm2d(num_features=64)\n",
        "        self.dropout2 = nn.Dropout(p=0.3)\n",
        "\n",
        "        self.conv5 = nn.Conv2d(\n",
        "            in_channels=64, out_channels=128, kernel_size=3, padding=\"same\"\n",
        "        )\n",
        "        self.conv6 = nn.Conv2d(\n",
        "            in_channels=128, out_channels=128, kernel_size=3, padding=\"same\"\n",
        "        )\n",
        "        self.pool3 = nn.MaxPool2d(kernel_size=2)\n",
        "        self.bn5 = nn.BatchNorm2d(num_features=128)\n",
        "        self.bn6 = nn.BatchNorm2d(num_features=128)\n",
        "        self.dropout3 = nn.Dropout(p=0.4)\n",
        "\n",
        "        self.branch1 = Branch(\n",
        "            in_channels=self.in_channels[0], in_features=self.in_features[0]\n",
        "        )\n",
        "        self.branch2 = Branch(\n",
        "            in_channels=self.in_channels[1], in_features=self.in_features[1]\n",
        "        )\n",
        "        self.branch3 = Branch(\n",
        "            in_channels=self.in_channels[2], in_features=self.in_features[2]\n",
        "        )\n",
        "        self.branch4 = Branch(\n",
        "            in_channels=self.in_channels[3], in_features=self.in_features[3]\n",
        "        )\n",
        "        self.branch5 = Branch(\n",
        "            in_channels=self.in_channels[4], in_features=self.in_features[4]\n",
        "        )\n",
        "\n",
        "        self.flatten = nn.Flatten()\n",
        "\n",
        "        self.fc1 = nn.Linear(in_features=2048, out_features=128)\n",
        "        self.fc2 = nn.Linear(in_features=128, out_features=128)\n",
        "        self.fc3 = nn.Linear(in_features=128, out_features=128)\n",
        "        self.fc4 = nn.Linear(in_features=128, out_features=128)\n",
        "        self.bn7 = nn.BatchNorm1d(num_features=128)\n",
        "        self.dropout4 = nn.Dropout(p=0.5)\n",
        "        self.fc5 = nn.Linear(in_features=128, out_features=num_classes)\n",
        "\n",
        "        self.num_layers = num_layers\n",
        "\n",
        "    def forward(self, tensor_after_previous_layer, exit_layer_idx=num_layers):\n",
        "        if exit_layer_idx == 0:\n",
        "            x = self.conv1(tensor_after_previous_layer)\n",
        "            x = F.relu(x)\n",
        "            tensor_after_layer = self.bn1(x)\n",
        "            predicted_scores_from_layer = self.branch1(tensor_after_layer)\n",
        "\n",
        "        elif exit_layer_idx == 1:\n",
        "            x = self.conv2(tensor_after_previous_layer)\n",
        "            x = F.relu(x)\n",
        "            x = self.bn2(x)\n",
        "            x = self.pool1(x)\n",
        "            tensor_after_layer = self.dropout1(x)\n",
        "            predicted_scores_from_layer = self.branch2(tensor_after_layer)\n",
        "\n",
        "        elif exit_layer_idx == 2:\n",
        "            x = self.conv3(tensor_after_previous_layer)\n",
        "            x = F.relu(x)\n",
        "            tensor_after_layer = self.bn3(x)\n",
        "            predicted_scores_from_layer = self.branch3(tensor_after_layer)\n",
        "\n",
        "        elif exit_layer_idx == 3:\n",
        "            x = self.conv4(tensor_after_previous_layer)\n",
        "            x = F.relu(x)\n",
        "            x = self.bn4(x)\n",
        "            x = self.pool2(x)\n",
        "            tensor_after_layer = self.dropout2(x)\n",
        "            predicted_scores_from_layer = self.branch4(tensor_after_layer)\n",
        "\n",
        "        elif exit_layer_idx == 4:\n",
        "            x = self.conv5(tensor_after_previous_layer)\n",
        "            x = F.relu(x)\n",
        "            tensor_after_layer = self.bn5(x)\n",
        "            predicted_scores_from_layer = self.branch5(tensor_after_layer)\n",
        "\n",
        "        elif exit_layer_idx == 5:\n",
        "            x = self.conv6(tensor_after_previous_layer)\n",
        "            x = F.relu(x)\n",
        "            x = self.bn6(x)\n",
        "            x = self.pool3(x)\n",
        "            x = self.dropout3(x)\n",
        "\n",
        "            x = self.flatten(x)\n",
        "            x = self.fc1(x)\n",
        "            x = F.relu(x)\n",
        "            x = self.fc2(x)\n",
        "            x = F.relu(x)\n",
        "            x = self.fc3(x)\n",
        "            x = F.relu(x)\n",
        "            x = self.fc4(x)\n",
        "            x = F.relu(x)\n",
        "            x = self.bn7(x)\n",
        "            tensor_after_layer = self.dropout4(x)\n",
        "            predicted_scores_from_layer = self.fc5(tensor_after_layer)\n",
        "\n",
        "        else:\n",
        "            ValueError(f\"exit_layer_idx {exit_layer_idx} should be int within 0 to 5\")\n",
        "\n",
        "        return tensor_after_layer, predicted_scores_from_layer"
      ],
      "metadata": {
        "id": "ts37_4X8gkw0",
        "cellView": "form"
      },
      "execution_count": null,
      "outputs": []
    },
    {
      "cell_type": "code",
      "source": [
        "model = Baseline().to(device)\n",
        "model.load_state_dict(torch.load(\"cifar10_branchyNet_m.h5\", map_location=\"cpu\"))\n",
        "model.eval()"
      ],
      "metadata": {
        "id": "gWA15P3ZgvPw",
        "colab": {
          "base_uri": "https://localhost:8080/"
        },
        "outputId": "9f2096be-bb75-4817-a881-7a2c3f46c4f6"
      },
      "execution_count": null,
      "outputs": [
        {
          "output_type": "execute_result",
          "data": {
            "text/plain": [
              "Baseline(\n",
              "  (conv1): Conv2d(3, 32, kernel_size=(3, 3), stride=(1, 1), padding=same)\n",
              "  (conv2): Conv2d(32, 32, kernel_size=(3, 3), stride=(1, 1), padding=same)\n",
              "  (pool1): MaxPool2d(kernel_size=2, stride=2, padding=0, dilation=1, ceil_mode=False)\n",
              "  (bn1): BatchNorm2d(32, eps=1e-05, momentum=0.1, affine=True, track_running_stats=True)\n",
              "  (bn2): BatchNorm2d(32, eps=1e-05, momentum=0.1, affine=True, track_running_stats=True)\n",
              "  (dropout1): Dropout(p=0.2, inplace=False)\n",
              "  (conv3): Conv2d(32, 64, kernel_size=(3, 3), stride=(1, 1), padding=same)\n",
              "  (conv4): Conv2d(64, 64, kernel_size=(3, 3), stride=(1, 1), padding=same)\n",
              "  (pool2): MaxPool2d(kernel_size=2, stride=2, padding=0, dilation=1, ceil_mode=False)\n",
              "  (bn3): BatchNorm2d(64, eps=1e-05, momentum=0.1, affine=True, track_running_stats=True)\n",
              "  (bn4): BatchNorm2d(64, eps=1e-05, momentum=0.1, affine=True, track_running_stats=True)\n",
              "  (dropout2): Dropout(p=0.3, inplace=False)\n",
              "  (conv5): Conv2d(64, 128, kernel_size=(3, 3), stride=(1, 1), padding=same)\n",
              "  (conv6): Conv2d(128, 128, kernel_size=(3, 3), stride=(1, 1), padding=same)\n",
              "  (pool3): MaxPool2d(kernel_size=2, stride=2, padding=0, dilation=1, ceil_mode=False)\n",
              "  (bn5): BatchNorm2d(128, eps=1e-05, momentum=0.1, affine=True, track_running_stats=True)\n",
              "  (bn6): BatchNorm2d(128, eps=1e-05, momentum=0.1, affine=True, track_running_stats=True)\n",
              "  (dropout3): Dropout(p=0.4, inplace=False)\n",
              "  (branch1): Branch(\n",
              "    (conv): Conv2d(32, 16, kernel_size=(3, 3), stride=(2, 2))\n",
              "    (bn): BatchNorm2d(16, eps=1e-05, momentum=0.1, affine=True, track_running_stats=True)\n",
              "    (flatten): Flatten(start_dim=1, end_dim=-1)\n",
              "    (fc): Linear(in_features=3600, out_features=10, bias=True)\n",
              "  )\n",
              "  (branch2): Branch(\n",
              "    (conv): Conv2d(32, 16, kernel_size=(3, 3), stride=(2, 2))\n",
              "    (bn): BatchNorm2d(16, eps=1e-05, momentum=0.1, affine=True, track_running_stats=True)\n",
              "    (flatten): Flatten(start_dim=1, end_dim=-1)\n",
              "    (fc): Linear(in_features=784, out_features=10, bias=True)\n",
              "  )\n",
              "  (branch3): Branch(\n",
              "    (conv): Conv2d(64, 16, kernel_size=(3, 3), stride=(2, 2))\n",
              "    (bn): BatchNorm2d(16, eps=1e-05, momentum=0.1, affine=True, track_running_stats=True)\n",
              "    (flatten): Flatten(start_dim=1, end_dim=-1)\n",
              "    (fc): Linear(in_features=784, out_features=10, bias=True)\n",
              "  )\n",
              "  (branch4): Branch(\n",
              "    (conv): Conv2d(64, 16, kernel_size=(3, 3), stride=(2, 2))\n",
              "    (bn): BatchNorm2d(16, eps=1e-05, momentum=0.1, affine=True, track_running_stats=True)\n",
              "    (flatten): Flatten(start_dim=1, end_dim=-1)\n",
              "    (fc): Linear(in_features=144, out_features=10, bias=True)\n",
              "  )\n",
              "  (branch5): Branch(\n",
              "    (conv): Conv2d(128, 16, kernel_size=(3, 3), stride=(2, 2))\n",
              "    (bn): BatchNorm2d(16, eps=1e-05, momentum=0.1, affine=True, track_running_stats=True)\n",
              "    (flatten): Flatten(start_dim=1, end_dim=-1)\n",
              "    (fc): Linear(in_features=144, out_features=10, bias=True)\n",
              "  )\n",
              "  (flatten): Flatten(start_dim=1, end_dim=-1)\n",
              "  (fc1): Linear(in_features=2048, out_features=128, bias=True)\n",
              "  (fc2): Linear(in_features=128, out_features=128, bias=True)\n",
              "  (fc3): Linear(in_features=128, out_features=128, bias=True)\n",
              "  (fc4): Linear(in_features=128, out_features=128, bias=True)\n",
              "  (bn7): BatchNorm1d(128, eps=1e-05, momentum=0.1, affine=True, track_running_stats=True)\n",
              "  (dropout4): Dropout(p=0.5, inplace=False)\n",
              "  (fc5): Linear(in_features=128, out_features=10, bias=True)\n",
              ")"
            ]
          },
          "metadata": {},
          "execution_count": 7
        }
      ]
    },
    {
      "cell_type": "code",
      "source": [
        "def cutoff_exit_performance_check(cutoff, print_per_layer_performance=False, Debug=False):\n",
        "    \"\"\"\n",
        "    TODO: On test data, run the model by iterating through exit layer indices.\n",
        "    Decide, based on entropy, whether to exit from a particular layer or not.\n",
        "    Please utilize tensors  after a layer for the next layer, if not exited.\n",
        "    If print_per_layer_performance is True, please print accuracy and time\n",
        "    for each layer. We want to see the printables for only one value. When\n",
        "    plotting, you don't need to print these.\n",
        "    \"\"\"\n",
        "    batch_number = 0\n",
        "    acc = []\n",
        "    sum_vals = []\n",
        "\n",
        "    L0_Acc = []\n",
        "    L1_Acc = []\n",
        "    L2_Acc = []\n",
        "    L3_Acc = []\n",
        "    L4_Acc = []\n",
        "    L5_Acc = []\n",
        "    L0_Time = []\n",
        "    L1_Time = []\n",
        "    L2_Time = []\n",
        "    L3_Time = []\n",
        "    L4_Time = []\n",
        "    L5_Time = []\n",
        "\n",
        "    with torch.no_grad():\n",
        "        start_total = time()\n",
        "        for data, labels in test_loader:\n",
        "            data = data.to(device)\n",
        "            labels = labels.to(device)\n",
        "            if (Debug is True):print('batch no.:', batch_number, 'with', data.shape[0], 'elements done')\n",
        "\n",
        "            tensor_after_layer = data\n",
        "            for exit_layer_idx in range(0, 5):  # Iterate through exit layer indices except fro the last layer\n",
        "\n",
        "                # Starting time\n",
        "                start_time = time()\n",
        "                tensor_after_layer, predicted_scores_from_layer = model(tensor_after_layer, exit_layer_idx=exit_layer_idx)\n",
        "\n",
        "                # Calculate loss and probabilities\n",
        "                loss = F.cross_entropy(predicted_scores_from_layer, labels)\n",
        "                probabilities = F.softmax(predicted_scores_from_layer, dim=1)\n",
        "\n",
        "                # Calculate entropy\n",
        "                entropy_val = entropy(probabilities.numpy(), axis=1)\n",
        "\n",
        "                # If entropy is greater than the cutoff, then exit for those samples\n",
        "                # This means that these are samples can be exited now\n",
        "                # The rest of the samples are sent to the next layer\n",
        "                result = entropy_val > cutoff\n",
        "\n",
        "                # Sum of values which should exit\n",
        "                sum_of_exit = np.sum(result)\n",
        "                if (Debug is True):print(exit_layer_idx, sum_of_exit, 'are exited out of total', len(labels), ', and the number going to the next layer:', len(labels[~result]))\n",
        "\n",
        "                # Ending time\n",
        "                end_time = time()\n",
        "\n",
        "                # These are the samples that have exited\n",
        "                probabilities_exited = probabilities[result]\n",
        "                labels_exited = labels[result]\n",
        "\n",
        "                # Calculating accuracy and total time based on the exited samples\n",
        "                if len(labels_exited) != 0:\n",
        "                  predicted_classes = np.argmax(probabilities_exited, axis=1)\n",
        "                  accuracy = np.sum(predicted_classes.numpy() == labels_exited.numpy()) / len(labels_exited)\n",
        "                  acc.append(accuracy)\n",
        "                  sum_vals.append(sum_of_exit)\n",
        "                  time_val = end_time-start_time\n",
        "\n",
        "                  if exit_layer_idx == 0:\n",
        "                    L0_Acc.append(accuracy)\n",
        "                    L0_Time.append(time_val)\n",
        "                  if exit_layer_idx == 1:\n",
        "                    L1_Acc.append(accuracy)\n",
        "                    L1_Time.append(time_val)\n",
        "                  if exit_layer_idx == 2:\n",
        "                    L2_Acc.append(accuracy)\n",
        "                    L2_Time.append(time_val)\n",
        "                  if exit_layer_idx == 3:\n",
        "                    L3_Acc.append(accuracy)\n",
        "                    L3_Time.append(time_val)\n",
        "                  if exit_layer_idx == 4:\n",
        "                    L4_Acc.append(accuracy)\n",
        "                    L4_Time.append(time_val)\n",
        "\n",
        "                  if (Debug is True):\n",
        "                    print('Accuracy:', round(accuracy, 2), ', Time: ', round(time_val, 2), 'for id:', exit_layer_idx,\n",
        "                          'for batch:', batch_number, 'where,', sum_of_exit, 'are exited out of', len(labels), ', and the non exited are:', len(labels[result]))\n",
        "\n",
        "                # Now updating non-exiting samples so that they stay\n",
        "                # Since their entropy is less than cutoff\n",
        "                # So, they need to go to the next layer\n",
        "                tensor_after_layer = tensor_after_layer[~result]\n",
        "                labels = labels[~result]\n",
        "\n",
        "            for exit_layer_idx in range(5, 6):  # The last exit layer\n",
        "                last_cutoff = 0\n",
        "                # Starting time\n",
        "                start_time = time()\n",
        "                tensor_after_layer, predicted_scores_from_layer = model(tensor_after_layer, exit_layer_idx=exit_layer_idx)\n",
        "                loss = F.cross_entropy(predicted_scores_from_layer, labels)\n",
        "                probabilities = F.softmax(predicted_scores_from_layer, dim=1)\n",
        "                entropy_val = entropy(probabilities.numpy(), axis=1)\n",
        "                result = entropy_val > last_cutoff\n",
        "                sum_of_exit = np.sum(result)\n",
        "                if (Debug is True):print(exit_layer_idx, sum_of_exit, 'are exited out of total', len(labels), ', and the number going to the next layer:', len(labels[~result]))\n",
        "                end_time = time()\n",
        "\n",
        "                # These are the samples that have exited\n",
        "                probabilities_exited = probabilities[result]\n",
        "                labels_exited = labels[result]\n",
        "\n",
        "                # Calculating accuracy and total time based on the exited samples\n",
        "                if len(labels_exited) != 0:\n",
        "                  predicted_classes = np.argmax(probabilities_exited, axis=1)\n",
        "                  accuracy = np.sum(predicted_classes.numpy() == labels_exited.numpy()) / len(labels_exited)\n",
        "                  acc.append(accuracy)\n",
        "                  sum_vals.append(sum_of_exit)\n",
        "                  time_val = end_time-start_time\n",
        "\n",
        "                  if exit_layer_idx == 5:\n",
        "                      L5_Acc.append(accuracy)\n",
        "                      L5_Time.append(time_val)\n",
        "\n",
        "                  if (Debug is True):\n",
        "                    print('Accuracy:', round(accuracy, 2), ', Time: ', round(time_val, 2), 'for id:', exit_layer_idx,\n",
        "                          'for batch:', batch_number, 'where,', sum_of_exit, 'are exited out of', len(labels), ', and the non exited are:', len(labels[result]))\n",
        "\n",
        "            batch_number += 1\n",
        "\n",
        "            # weighted average for calculating overall accuracy for exited samples\n",
        "            # over all the layers\n",
        "            if len(sum_vals) == 0:\n",
        "              overall_accuracy = acc[0]\n",
        "            else:\n",
        "              if sum(sum_vals) != 0:\n",
        "                overall_accuracy = sum(x * y for x, y in zip(acc, sum_vals)) / sum(sum_vals)\n",
        "              else:\n",
        "                overall_accuracy = sum(acc)/len(acc)\n",
        "            if (Debug is True): print('Total samples exited for layers 0 through 5:', sum_vals,\n",
        "                                      'with accuracies:', acc, ', with weighted sum:', overall_accuracy)\n",
        "\n",
        "        end_total = time()\n",
        "        total_time = end_total-start_total\n",
        "\n",
        "        if print_per_layer_performance:\n",
        "          print('Layer 0 Average Acc: ', str(L0_Acc), ', and it took on an average: ', str(L0_Time), ' seconds')\n",
        "          print('Layer 1 Average Acc: ', str(L1_Acc), ', and it took on an average: ', str(L1_Time), ' seconds')\n",
        "          print('Layer 2 Average Acc: ', str(L2_Acc), ', and it took on an average: ', str(L2_Time), ' seconds')\n",
        "          print('Layer 3 Average Acc: ', str(L3_Acc), ', and it took on an average: ', str(L3_Time), ' seconds')\n",
        "          print('Layer 4 Average Acc: ', str(L4_Acc), ', and it took on an average: ', str(L4_Time), ' seconds')\n",
        "          print('Layer 5 Average Acc: ', str(L5_Acc), ', and it took on an average: ', str(L5_Time), ' seconds')\n",
        "          print('Averaged over all layers and all samples for a cutoff: ', cutoff)\n",
        "          print('overall_accuracy:', overall_accuracy, ', total_time:', total_time, 's, which averaged is:', str((total_time/data.shape[0])*1000), 'ms/sample!')\n",
        "\n",
        "    return overall_accuracy, total_time"
      ],
      "metadata": {
        "id": "e3z36vDKg2-c"
      },
      "execution_count": null,
      "outputs": []
    },
    {
      "cell_type": "markdown",
      "source": [
        "Task 1(a) Accuracy and inference time at each layer for c = 0.6"
      ],
      "metadata": {
        "id": "2gmh9OrJ50mo"
      }
    },
    {
      "cell_type": "code",
      "source": [
        "cutoff = 0.6\n",
        "overall_accuracy, total_time = cutoff_exit_performance_check(cutoff, print_per_layer_performance=True, Debug=True)"
      ],
      "metadata": {
        "id": "EBiwnj5lj5DK",
        "colab": {
          "base_uri": "https://localhost:8080/"
        },
        "outputId": "b63e84dd-ce4f-405c-a751-eddba33dc538"
      },
      "execution_count": null,
      "outputs": [
        {
          "output_type": "stream",
          "name": "stdout",
          "text": [
            "batch no.: 0 with 10000 elements done\n",
            "0 5228 are exited out of total 10000 , and the number going to the next layer: 4772\n",
            "Accuracy: 0.44 , Time:  9.82 for id: 0 for batch: 0 where, 5228 are exited out of 10000 , and the non exited are: 5228\n",
            "1 1468 are exited out of total 4772 , and the number going to the next layer: 3304\n",
            "Accuracy: 0.63 , Time:  4.95 for id: 1 for batch: 0 where, 1468 are exited out of 4772 , and the non exited are: 1468\n",
            "2 199 are exited out of total 3304 , and the number going to the next layer: 3105\n",
            "Accuracy: 0.62 , Time:  1.33 for id: 2 for batch: 0 where, 199 are exited out of 3304 , and the non exited are: 199\n",
            "3 108 are exited out of total 3105 , and the number going to the next layer: 2997\n",
            "Accuracy: 0.77 , Time:  2.06 for id: 3 for batch: 0 where, 108 are exited out of 3105 , and the non exited are: 108\n",
            "4 40 are exited out of total 2997 , and the number going to the next layer: 2957\n",
            "Accuracy: 0.7 , Time:  0.83 for id: 4 for batch: 0 where, 40 are exited out of 2997 , and the non exited are: 40\n",
            "5 2957 are exited out of total 2957 , and the number going to the next layer: 0\n",
            "Accuracy: 0.98 , Time:  1.6 for id: 5 for batch: 0 where, 2957 are exited out of 2957 , and the non exited are: 2957\n",
            "Total samples exited for layers 0 through 5: [5228, 1468, 199, 108, 40, 2957] with accuracies: [0.4387911247130834, 0.6280653950953679, 0.6231155778894473, 0.7685185185185185, 0.7, 0.9793709841055124] , with weighted sum: 0.6347\n",
            "Layer 0 Average Acc:  [0.4387911247130834] , and it took on an average:  [9.82029390335083]  seconds\n",
            "Layer 1 Average Acc:  [0.6280653950953679] , and it took on an average:  [4.95196270942688]  seconds\n",
            "Layer 2 Average Acc:  [0.6231155778894473] , and it took on an average:  [1.3346209526062012]  seconds\n",
            "Layer 3 Average Acc:  [0.7685185185185185] , and it took on an average:  [2.059250831604004]  seconds\n",
            "Layer 4 Average Acc:  [0.7] , and it took on an average:  [0.8329212665557861]  seconds\n",
            "Layer 5 Average Acc:  [0.9793709841055124] , and it took on an average:  [1.5968735218048096]  seconds\n",
            "Averaged over all layers and all samples for a cutoff:  0.6\n",
            "overall_accuracy: 0.6347 , total_time: 24.781396627426147 s, which averaged is: 2.4781396627426147 ms/sample!\n"
          ]
        }
      ]
    },
    {
      "cell_type": "markdown",
      "source": [
        "**Task** 1(b)\n",
        "1. Plotting total time vs total accuracy (Scatter Plot)\n",
        "2. Plotting total time vs cutoff\n",
        "X - cutoff, y - time, varying cutoff from 0 to 1 at 0.01 increments\n",
        "3. Plotting overall accuracy vs cutoff\n",
        "X - cutoff, y - accuracy, varying cutoff from 0 to 1 at 0.01 increments"
      ],
      "metadata": {
        "id": "PwqAYvQL8KrM"
      }
    },
    {
      "cell_type": "code",
      "source": [
        "iteration_limit = 100\n",
        "\n",
        "# Iterating from 0.001 to log2(10)\n",
        "# I didn't iterate from 0 since doing that leads to dividing by zero error\n",
        "cutoff_values = np.linspace(0.001, np.log2(num_classes), iteration_limit)\n",
        "\n",
        "acc_vals = []\n",
        "time_vals = []\n",
        "i = 0\n",
        "for cutoff_value in cutoff_values:\n",
        "  overall_accuracy, total_time = cutoff_exit_performance_check(cutoff_value, print_per_layer_performance=True, Debug=False)\n",
        "  acc_vals.append(overall_accuracy)\n",
        "  time_vals.append(total_time)\n",
        "  i += 1\n",
        "  print(i, '/', str(iteration_limit), ' done for cutoff value: ', round(cutoff_value, 2), ' which has acc: ', round(overall_accuracy, 2),\n",
        "        ' and took: ', round(total_time, 2), 's total, and', round((total_time/10000)*1000, 2), 'ms/sample')\n",
        "\n",
        "acc_vals_np = np.array(acc_vals)\n",
        "time_vals_np = np.array(time_vals)\n",
        "cutoff_np = np.array(cutoff_values)\n",
        "\n",
        "np.save('acc_1_'  + str(iteration_limit)  +'.npy', acc_vals_np)\n",
        "np.save('time_1_' + str(iteration_limit)  +'.npy', time_vals_np)\n",
        "np.save('cutoff_1_'+str(iteration_limit)  +'.npy', cutoff_np)\n",
        "\n",
        "plt.scatter(time_vals, acc_vals)\n",
        "plt.title('Part 1(b).1')\n",
        "plt.xlabel('Total Time')\n",
        "plt.ylabel('Overall Accuracy')\n",
        "plt.show()\n",
        "\n",
        "plt.plot(cutoff_values, time_vals)\n",
        "plt.title('Part 1(b).2')\n",
        "plt.ylabel('Total Time')\n",
        "plt.xlabel('Cutoff')\n",
        "plt.show()\n",
        "\n",
        "plt.plot(cutoff_values, acc_vals)\n",
        "plt.title('Part 1(b).3')\n",
        "plt.ylabel('Overall Accuracy')\n",
        "plt.xlabel('Cutoff')\n",
        "plt.show()"
      ],
      "metadata": {
        "id": "ifVnSpFwCZOl"
      },
      "execution_count": null,
      "outputs": []
    },
    {
      "cell_type": "code",
      "source": [
        "# Re-plotting here to not repeat the above cell\n",
        "iteration_limit = 100\n",
        "\n",
        "acc_vals_np = np.load('acc_1_'  + str(iteration_limit)  +'.npy')\n",
        "time_vals_np= np.load('time_1_' + str(iteration_limit)  +'.npy')\n",
        "cutoff_np   = np.load('cutoff_1_'+str(iteration_limit)  +'.npy')\n",
        "\n",
        "plt.scatter(time_vals_np, acc_vals_np)\n",
        "plt.title('Part 1(b).1')\n",
        "plt.xlabel('Total Time')\n",
        "plt.ylabel('Overall Accuracy')\n",
        "plt.show()\n",
        "\n",
        "plt.plot(cutoff_np, time_vals_np)\n",
        "plt.title('Part 1(b).2')\n",
        "plt.ylabel('Total Time')\n",
        "plt.xlabel('Cutoff')\n",
        "plt.show()\n",
        "\n",
        "plt.plot(cutoff_np, acc_vals_np)\n",
        "plt.title('Part 1(b).3')\n",
        "plt.ylabel('Overall Accuracy')\n",
        "plt.xlabel('Cutoff')\n",
        "plt.show()"
      ],
      "metadata": {
        "id": "LKx1NSCu0LGW",
        "colab": {
          "base_uri": "https://localhost:8080/",
          "height": 1000
        },
        "outputId": "7fbc79fc-dbb4-4959-c9eb-c8f863f9ff63"
      },
      "execution_count": null,
      "outputs": [
        {
          "output_type": "display_data",
          "data": {
            "text/plain": [
              "<Figure size 640x480 with 1 Axes>"
            ],
            "image/png": "[encoded data removed]"
          },
          "metadata": {}
        },
        {
          "output_type": "display_data",
          "data": {
            "text/plain": [
              "<Figure size 640x480 with 1 Axes>"
            ],
            "image/png": "[encoded data removed]"
          },
          "metadata": {}
        },
        {
          "output_type": "display_data",
          "data": {
            "text/plain": [
              "<Figure size 640x480 with 1 Axes>"
            ],
            "image/png": "[encoded data removed]"
          },
          "metadata": {}
        }
      ]
    },
    {
      "cell_type": "markdown",
      "source": [
        "**Task 1(b).4**\n",
        "\n",
        "**Describe which threshold you think the model works best in terms of\n",
        "both inference time and accuracy.**\n",
        "\n",
        "According to me, based on above, a threshold of ~2 works best for least time and accuracy above 0.8."
      ],
      "metadata": {
        "id": "O5Ezb2WTTNdN"
      }
    },
    {
      "cell_type": "markdown",
      "source": [
        "# Task 2\n",
        "\n",
        "## (a)1 **Estimating the thresholds for the validation data**"
      ],
      "metadata": {
        "id": "VOsnQiwtII9A"
      }
    },
    {
      "cell_type": "code",
      "source": [
        "def estimate_thresholds(desired_accuracy, Debug=False):\n",
        "    \"\"\"\n",
        "    TODO: On validation data, for each layer, estimate entropy cutoff that\n",
        "    gives the desired accuracy. Consider the samples exited and skip those\n",
        "    samples when estimating the thresholds for the following layers.\n",
        "    \"\"\"\n",
        "    estimated_thresholds = []\n",
        "\n",
        "    batch_number = 0\n",
        "    acc = []\n",
        "    sum_vals = []\n",
        "\n",
        "    with torch.no_grad():\n",
        "        start_total = time()\n",
        "        for data, labels in val_loader:\n",
        "            data = data.to(device)\n",
        "            labels = labels.to(device)\n",
        "            if (Debug is True): print('Batch no.: ', batch_number+1, '/ ', len(val_loader), ' now processing')\n",
        "\n",
        "            tensor_after_layer = data\n",
        "            for exit_layer_idx in range(0, 6):  # Iterate through exit layer indices\n",
        "                cutoff = np.log2(num_classes)\n",
        "\n",
        "                start_time = time()\n",
        "                tensor_after_layer, predicted_scores_from_layer = model(tensor_after_layer, exit_layer_idx=exit_layer_idx)\n",
        "                loss = F.cross_entropy(predicted_scores_from_layer, labels)\n",
        "                probabilities = F.softmax(predicted_scores_from_layer, dim=1)\n",
        "                entropy = -torch.sum(probabilities * torch.log2(probabilities), dim=1)\n",
        "                result = entropy > cutoff\n",
        "                sum_of_trues = torch.sum(result).item()\n",
        "                end_time = time()\n",
        "                tensor_after_layer_exited = tensor_after_layer[~result]\n",
        "                probabilities_exited = probabilities[~result]\n",
        "                labels_exited = labels[~result]\n",
        "\n",
        "                if len(labels_exited) != 0:\n",
        "                  predicted_classes = torch.argmax(probabilities_exited, dim=1)\n",
        "                  accuracy = torch.sum(predicted_classes == labels_exited).item() / len(labels_exited)\n",
        "                  time_val = end_time-start_time\n",
        "\n",
        "                  if accuracy >= desired_accuracy:\n",
        "                    acc.append(accuracy)\n",
        "                    sum_vals.append(sum_of_trues)\n",
        "                    if (Debug is True): print('First cutoff:', round(cutoff, 2),\n",
        "                                              ', Accuracy: ', round(accuracy, 2),\n",
        "                                              ', Time: ', round(time_val, 2),\n",
        "                                              ' for id: ', exit_layer_idx,\n",
        "                                              ' for batch: ', batch_number,\n",
        "                                              ' where, ', sum_of_trues,\n",
        "                                              ' are not exited out of ', len(labels),\n",
        "                                              ', and the number exited: ', len(labels[~result]))\n",
        "                    estimated_thresholds.append(cutoff)\n",
        "                  else:\n",
        "                    while accuracy < desired_accuracy:\n",
        "                      cutoff = cutoff * 0.9\n",
        "                      # print(cutoff)\n",
        "                      start_time = time()\n",
        "                      result = entropy > cutoff\n",
        "                      sum_of_trues = torch.sum(result).item()\n",
        "                      end_time = time()\n",
        "\n",
        "                      tensor_after_layer_exited = tensor_after_layer[~result]\n",
        "                      probabilities_exited = probabilities[~result]\n",
        "                      labels_exited = labels[~result]\n",
        "\n",
        "                      if len(labels_exited) != 0:\n",
        "                        predicted_classes = torch.argmax(probabilities_exited, dim=1)\n",
        "                        accuracy = torch.sum(predicted_classes == labels_exited).item() / len(labels_exited)\n",
        "                        time_val = end_time-start_time\n",
        "\n",
        "                      if accuracy < desired_accuracy and cutoff < 0.001:\n",
        "                        break\n",
        "\n",
        "                    acc.append(accuracy)\n",
        "                    sum_vals.append(sum_of_trues)\n",
        "                    if (Debug is True):\n",
        "                      print('Successive cutoff:', round(cutoff, 2) ,\n",
        "                            ', Accuracy: ', round(accuracy, 2),\n",
        "                            ', Time: ', round(time_val, 2),\n",
        "                            ' for id: ', exit_layer_idx,\n",
        "                            ' for sample: ', batch_number,\n",
        "                            ' where, ', sum_of_trues,\n",
        "                            ' are not exited out of ', len(labels),\n",
        "                            ', and the number exited: ', len(labels[~result]))\n",
        "                    estimated_thresholds.append(cutoff)\n",
        "\n",
        "                tensor_after_layer = tensor_after_layer[result]\n",
        "                labels = labels[result]\n",
        "\n",
        "            # weighted average for a given batch and then average over all the batches\n",
        "            if len(sum_vals) == 0:# and sum_vals[0] == 0:\n",
        "              overall_accuracy = acc[0]\n",
        "            else:\n",
        "              if sum(sum_vals) != 0:\n",
        "                overall_accuracy = sum(x * y for x, y in zip(acc, sum_vals)) / sum(sum_vals)\n",
        "              else:\n",
        "                overall_accuracy = sum(acc)/len(acc)\n",
        "            if (Debug is True): print('Total sum_vals: ', len(sum_vals), ', and overall_accuracy: ', overall_accuracy)\n",
        "\n",
        "            batch_number += 1\n",
        "\n",
        "    return estimated_thresholds, overall_accuracy"
      ],
      "metadata": {
        "id": "4iJbhwauBJOX"
      },
      "execution_count": null,
      "outputs": []
    },
    {
      "cell_type": "code",
      "source": [
        "estimated_thresholds, acc = estimate_thresholds(0.8, Debug= True)\n",
        "# Setting the final layer cutoff to 0\n",
        "estimated_thresholds[5] = 0\n",
        "print('There are a total of ', len(estimated_thresholds), ' estimated thresholds: ', estimated_thresholds)\n",
        "print('The overall accuracy is ', acc)"
      ],
      "metadata": {
        "id": "YIASZPTQSuQm",
        "colab": {
          "base_uri": "https://localhost:8080/"
        },
        "outputId": "9b6bbc29-1934-4c40-b40e-6e95fd5ab676"
      },
      "execution_count": null,
      "outputs": [
        {
          "output_type": "stream",
          "name": "stdout",
          "text": [
            "Batch no.:  1 /  1  now processing\n",
            "Successive cutoff: 0.84 , Accuracy:  0.8 , Time:  0.0  for id:  0  for sample:  0  where,  2616  are not exited out of  5000 , and the number exited:  2384\n",
            "Successive cutoff: 1.29 , Accuracy:  0.8 , Time:  0.0  for id:  1  for sample:  0  where,  1349  are not exited out of  2616 , and the number exited:  1267\n",
            "Successive cutoff: 0.84 , Accuracy:  0.8 , Time:  0.0  for id:  2  for sample:  0  where,  993  are not exited out of  1349 , and the number exited:  356\n",
            "Successive cutoff: 1.04 , Accuracy:  0.82 , Time:  0.0  for id:  3  for sample:  0  where,  796  are not exited out of  993 , and the number exited:  197\n",
            "Successive cutoff: 0.76 , Accuracy:  0.82 , Time:  0.0  for id:  4  for sample:  0  where,  642  are not exited out of  796 , and the number exited:  154\n",
            "Successive cutoff: 0.84 , Accuracy:  0.84 , Time:  0.0  for id:  5  for sample:  0  where,  538  are not exited out of  642 , and the number exited:  104\n",
            "Total sum_vals:  6 , and overall_accuracy:  0.808142094376469\n",
            "There are a total of  6  estimated thresholds:  [0.8443895508560245, 1.2869830069441006, 0.8443895508560245, 1.0424562356247216, 0.7599505957704221, 0]\n",
            "The overall accuracy is  0.808142094376469\n"
          ]
        }
      ]
    },
    {
      "cell_type": "markdown",
      "source": [
        "# Task 2\n",
        "\n",
        "## (a)2 **Estimating the inference time with these thresholds**"
      ],
      "metadata": {
        "id": "jCFh5QjJ-Pvf"
      }
    },
    {
      "cell_type": "code",
      "source": [
        "def inference_thresholds(thresholds, Debug=False):\n",
        "    batch_number = 0\n",
        "    with torch.no_grad():\n",
        "      start_total = time()\n",
        "      for data, labels in val_loader:\n",
        "        data = data.to(device)\n",
        "        labels = labels.to(device)\n",
        "        if (Debug is True): print('Batch no.: ', batch_number+1, '/ ', len(val_loader), ' now processing')\n",
        "\n",
        "        tensor_after_layer = data\n",
        "        for exit_layer_idx in range(0, 6):  # Iterate through exit layer indices\n",
        "          start_time = time()\n",
        "          tensor_after_layer, predicted_scores_from_layer = model(tensor_after_layer, exit_layer_idx=exit_layer_idx)\n",
        "          loss = F.cross_entropy(predicted_scores_from_layer, labels)\n",
        "          probabilities = F.softmax(predicted_scores_from_layer, dim=1)\n",
        "          entropy = -torch.sum(probabilities * torch.log2(probabilities), dim=1)\n",
        "          result = entropy > thresholds[batch_number*6+exit_layer_idx]\n",
        "          # print(thresholds[batch_number*6+exit_layer_idx], result)\n",
        "          sum_of_trues = torch.sum(result).item()\n",
        "          tensor_after_layer_exited = tensor_after_layer[~result]\n",
        "          probabilities_exited = probabilities[~result]\n",
        "          labels_exited = labels[~result]\n",
        "          if len(labels_exited) != 0:\n",
        "            predicted_classes = torch.argmax(probabilities_exited, dim=1)\n",
        "            accuracy = torch.sum(predicted_classes == labels_exited).item() / len(labels_exited)\n",
        "            end_time = time()\n",
        "            time_val = end_time-start_time\n",
        "            if (Debug is True):\n",
        "                print('Entropy cutoff:', round(thresholds[batch_number*6+exit_layer_idx], 2),\n",
        "                      ', Accuracy: ', round(accuracy, 2),\n",
        "                      ', Time: ', round(time_val, 2),\n",
        "                      ' for id: ', exit_layer_idx,\n",
        "                      ' for batch: ', batch_number,\n",
        "                      ' where, ', sum_of_trues,\n",
        "                      ' are not exited out of ', len(labels),\n",
        "                      ', and the number exited: ', len(labels[~result]))\n",
        "          tensor_after_layer = tensor_after_layer[result]\n",
        "          labels = labels[result]\n",
        "        batch_number += 1\n",
        "      end_total = time()\n",
        "      inference_time = end_total-start_total\n",
        "\n",
        "    return inference_time"
      ],
      "metadata": {
        "id": "NhaWhOvH-sJK"
      },
      "execution_count": null,
      "outputs": []
    },
    {
      "cell_type": "code",
      "source": [
        "Debug=False\n",
        "inference_time = inference_thresholds(estimated_thresholds, Debug=Debug)\n",
        "if Debug==True: print('Total inference time with print statements: ', inference_time, ' which comes down to ', inference_time/val_size, ' seconds per sample.')\n",
        "else: print('Total inference time (no printing during inference): ', inference_time, ' which comes down to ', inference_time/val_size, ' seconds per sample.')"
      ],
      "metadata": {
        "id": "pVff7ZQmAMd6",
        "colab": {
          "base_uri": "https://localhost:8080/"
        },
        "outputId": "f74f863a-1038-4cc0-c8a6-1d476e1d9e7f"
      },
      "execution_count": null,
      "outputs": [
        {
          "output_type": "stream",
          "name": "stdout",
          "text": [
            "Total inference time (no printing during inference):  10.199470043182373  which comes down to  0.0020398940086364748  seconds per sample.\n"
          ]
        }
      ]
    },
    {
      "cell_type": "markdown",
      "source": [
        "The inference time is about 7 - 8 seconds without the print statements, and it is about 8-9 seconds with the debugging print statements for all of the validation data.\n",
        "\n",
        "Per sample, this averages down to ~2 ms per sample."
      ],
      "metadata": {
        "id": "Zjphdvw3Drt0"
      }
    },
    {
      "cell_type": "markdown",
      "source": [
        "# Task 2\n",
        "\n",
        "## (b)1 **Estimating the inference with different accuracy thresholds**"
      ],
      "metadata": {
        "id": "gHPvgf6zIOVS"
      }
    },
    {
      "cell_type": "code",
      "source": [
        "iteration_limit = 5\n",
        "acc_thresholds = np.linspace(0.8, 1, iteration_limit)\n",
        "\n",
        "final_thresholds = []\n",
        "final_accuracies = []\n",
        "final_infer_time = []\n",
        "iteration_val = 0\n",
        "for iteration in acc_thresholds:\n",
        "  estimated_thresholds, acc = estimate_thresholds(iteration, Debug= False)\n",
        "  estimated_thresholds[5] = 0\n",
        "  print('For accuracy threshold of: ', round(iteration, 3), ', there are total ', len(estimated_thresholds), ' estimated thresholds with overall accuracy: ', round(acc, 3))\n",
        "  Debug=False\n",
        "  inference_time = inference_thresholds(estimated_thresholds, Debug=False)\n",
        "  print('For iteration ',  iteration_val, ', total inference time: ', round(inference_time, 3), 's which is ', round((inference_time/val_size)*1000, 3), ' ms per sample.')\n",
        "  final_thresholds.append(estimated_thresholds)\n",
        "  final_accuracies.append(acc)\n",
        "  final_infer_time.append(inference_time)\n",
        "  iteration_val += 1\n",
        "\n",
        "estimated_thresholds = np.array([np.array(xi) for xi in final_thresholds])\n",
        "np.save('estimated_thresholds.npy', estimated_thresholds)"
      ],
      "metadata": {
        "id": "ox9CF4-VIMWd",
        "colab": {
          "base_uri": "https://localhost:8080/"
        },
        "outputId": "b9a40e5c-3db4-4b75-b9a0-e113901a2f2c"
      },
      "execution_count": null,
      "outputs": [
        {
          "output_type": "stream",
          "name": "stdout",
          "text": [
            "For accuracy threshold of:  0.8 , there are total  6  estimated thresholds with overall accuracy:  0.808\n",
            "For iteration  0 , total inference time:  10.979 s which is  2.196  ms per sample.\n",
            "For accuracy threshold of:  0.85 , there are total  6  estimated thresholds with overall accuracy:  0.86\n",
            "For iteration  1 , total inference time:  11.975 s which is  2.395  ms per sample.\n",
            "For accuracy threshold of:  0.9 , there are total  6  estimated thresholds with overall accuracy:  0.904\n",
            "For iteration  2 , total inference time:  15.332 s which is  3.066  ms per sample.\n",
            "For accuracy threshold of:  0.95 , there are total  6  estimated thresholds with overall accuracy:  0.952\n",
            "For iteration  3 , total inference time:  16.437 s which is  3.287  ms per sample.\n",
            "For accuracy threshold of:  1.0 , there are total  6  estimated thresholds with overall accuracy:  0.996\n",
            "For iteration  4 , total inference time:  20.772 s which is  4.154  ms per sample.\n"
          ]
        }
      ]
    },
    {
      "cell_type": "code",
      "source": [
        "plt.scatter(acc_thresholds, final_infer_time)\n",
        "plt.title('Task 2(b) 1')\n",
        "plt.ylabel('Inference Time')\n",
        "plt.xlabel('Accuracy Threshold')\n",
        "plt.show()"
      ],
      "metadata": {
        "id": "XXMh3-JVMF6n",
        "colab": {
          "base_uri": "https://localhost:8080/",
          "height": 472
        },
        "outputId": "2b7dfcf3-e14b-4e2e-cc8b-619c58263d81"
      },
      "execution_count": null,
      "outputs": [
        {
          "output_type": "display_data",
          "data": {
            "text/plain": [
              "<Figure size 640x480 with 1 Axes>"
            ],
            "image/png": "[encoded data removed]"
          },
          "metadata": {}
        }
      ]
    },
    {
      "cell_type": "markdown",
      "source": [
        "Based on this, I choose a cutoff of 0.85 because while the values are increasing somewhat linearly, there is a slight drop for that value.\n",
        "\n",
        "# Task 2\n",
        "\n",
        "## (b)2 **Using the best threshold, find the accuracy and inference time on the test data.**"
      ],
      "metadata": {
        "id": "m5z7xEeRM-ay"
      }
    },
    {
      "cell_type": "code",
      "source": [
        "def inference_thresholds_test(thresholds, Debug=False):\n",
        "    batch_number = 0\n",
        "    accs = []\n",
        "    sum_vals = []\n",
        "    thresholds = torch.from_numpy(thresholds)\n",
        "    with torch.no_grad():\n",
        "      start_total = time()\n",
        "      for data, labels in test_loader:\n",
        "        data = data.to(device)\n",
        "        labels = labels.to(device)\n",
        "        if (Debug is True): print('Batch no.: ', batch_number+1, '/ ', len(test_loader), ' now processing')\n",
        "\n",
        "        tensor_after_layer = data\n",
        "        for exit_layer_idx in range(0, 6):  # Iterate through exit layer indices\n",
        "          start_time = time()\n",
        "          tensor_after_layer, predicted_scores_from_layer = model(tensor_after_layer, exit_layer_idx=exit_layer_idx)\n",
        "          loss = F.cross_entropy(predicted_scores_from_layer, labels)\n",
        "          probabilities = F.softmax(predicted_scores_from_layer, dim=1)\n",
        "          entropy = -torch.sum(probabilities * torch.log2(probabilities), dim=1)\n",
        "          # print(thresholds[exit_layer_idx])\n",
        "          result = entropy > thresholds[exit_layer_idx]\n",
        "          sum_of_trues = torch.sum(result).item()\n",
        "          tensor_after_layer_exited = tensor_after_layer[~result]\n",
        "          probabilities_exited = probabilities[~result]\n",
        "          labels_exited = labels[~result]\n",
        "          # print(len(labels_exited), 10000-sum_of_trues)\n",
        "          if len(labels_exited) != 0:\n",
        "            predicted_classes = torch.argmax(probabilities_exited, dim=1)\n",
        "            accuracy = torch.sum(predicted_classes == labels_exited).item() / len(labels_exited)\n",
        "            end_time = time()\n",
        "            time_val = end_time-start_time\n",
        "            if (Debug is True):\n",
        "                print('Entropy cutoff:', thresholds[exit_layer_idx].item(),\n",
        "                      ', Accuracy: ', round(accuracy, 2),\n",
        "                      ', Time: ', round(time_val, 2),\n",
        "                      ' for id: ', exit_layer_idx,\n",
        "                      ' for batch: ', batch_number,\n",
        "                      ' where, ', sum_of_trues,\n",
        "                      ' are not exited out of ', len(labels),\n",
        "                      ', and the number exited: ', len(labels[~result]))\n",
        "          tensor_after_layer = tensor_after_layer[result]\n",
        "          labels = labels[result]\n",
        "          accs.append(accuracy)\n",
        "          sum_vals.append(10000-sum_of_trues)\n",
        "        # weighted average for a given batch and then average over all the batches\n",
        "        if len(sum_vals) == 0:# and sum_vals[0] == 0:\n",
        "          overall_accuracy = acc[0]\n",
        "        else:\n",
        "          if sum(sum_vals) != 0:\n",
        "            overall_accuracy = sum(x * y for x, y in zip(accs, sum_vals)) / sum(sum_vals)\n",
        "          else:\n",
        "            overall_accuracy = sum(accs)/len(accs)\n",
        "        if (Debug is True): print('Total sum_vals: ', len(sum_vals), (sum_vals), ', and overall_accuracy: ', overall_accuracy)\n",
        "\n",
        "        batch_number += 1\n",
        "      end_total = time()\n",
        "      inference_time = end_total-start_total\n",
        "\n",
        "    return inference_time, overall_accuracy, accs"
      ],
      "metadata": {
        "id": "uz3IHvIgONiE"
      },
      "execution_count": null,
      "outputs": []
    },
    {
      "cell_type": "code",
      "source": [
        "# Accuracy threshold obtained from validation data\n",
        "accuracy_threshold = 0.85\n",
        "estimated_thresholds = np.load('estimated_thresholds.npy')\n",
        "print('Estimated Thresholds:', estimated_thresholds[1])\n",
        "print('Using the test data with an accuracy threshold of: ', accuracy_threshold)\n",
        "inference_time, acc_1, accs = inference_thresholds_test(estimated_thresholds[1], Debug=True)\n",
        "# print(len(accs), acc_1, accs)\n",
        "print('The total inference time: ', round(inference_time, 3), ' s, which is ', round((inference_time/10000)*1000, 3), ' ms per sample.')\n",
        "print('So, the overall acc is: ', round(acc_1, 3), ' and the average inference time per test data sample is: ', round((inference_time/10000)*1000, 3), ' ms!')"
      ],
      "metadata": {
        "id": "rpWRZzj-Ndhc",
        "colab": {
          "base_uri": "https://localhost:8080/"
        },
        "outputId": "e4dc33d0-a7d6-48c4-c454-d7a21b3afd2a"
      },
      "execution_count": null,
      "outputs": [
        {
          "output_type": "stream",
          "name": "stdout",
          "text": [
            "Estimated Thresholds: [0.55400398 1.04245624 0.68395554 0.55400398 0.68395554 0.        ]\n",
            "Using the test data with an accuracy threshold of:  0.85\n",
            "Batch no.:  1 /  1  now processing\n",
            "Entropy cutoff: 0.5540039843166377 , Accuracy:  0.87 , Time:  6.77  for id:  0  for batch:  0  where,  6418  are not exited out of  10000 , and the number exited:  3582\n",
            "Entropy cutoff: 1.0424562356247216 , Accuracy:  0.85 , Time:  6.68  for id:  1  for batch:  0  where,  3865  are not exited out of  6418 , and the number exited:  2553\n",
            "Entropy cutoff: 0.6839555361933799 , Accuracy:  0.84 , Time:  1.93  for id:  2  for batch:  0  where,  2887  are not exited out of  3865 , and the number exited:  978\n",
            "Entropy cutoff: 0.5540039843166377 , Accuracy:  0.86 , Time:  3.06  for id:  3  for batch:  0  where,  2609  are not exited out of  2887 , and the number exited:  278\n",
            "Entropy cutoff: 0.6839555361933799 , Accuracy:  0.84 , Time:  1.12  for id:  4  for batch:  0  where,  1927  are not exited out of  2609 , and the number exited:  682\n",
            "Total sum_vals:  6 [3582, 6135, 7113, 7391, 8073, 8073] , and overall_accuracy:  0.8494488333751827\n",
            "The total inference time:  24.783  s, which is  2.478  ms per sample.\n",
            "So, the overall acc is:  0.849  and the average inference time per test data sample is:  2.478  ms!\n"
          ]
        }
      ]
    }
  ]
}